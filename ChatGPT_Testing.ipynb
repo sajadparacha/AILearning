{
 "cells": [
  {
   "cell_type": "code",
   "execution_count": 1,
   "id": "initial_id",
   "metadata": {
    "collapsed": true,
    "ExecuteTime": {
     "end_time": "2025-02-09T05:09:09.302755Z",
     "start_time": "2025-02-09T05:09:09.299916Z"
    }
   },
   "outputs": [],
   "source": [
    "import sys\n",
    "import os\n"
   ]
  },
  {
   "cell_type": "code",
   "outputs": [
    {
     "name": "stdout",
     "output_type": "stream",
     "text": [
      "The 8th Habit: From Effectiveness to Greatness by Stephen R. Covey expands upon the seven habits mentioned in his previous book. The 8th habit is about finding your voice and inspiring others to find theirs. Covey argues that as we move from the Industrial Age to the Knowledge Worker's Age, we need a new habit to thrive. This includes developing emotional and social intelligence and embracing change and self-mastery, which eventually helps the individual to learn, grow, and contribute - in essence, to find their voice. The second part of the 8th habit is about motivating and empowering others to discover their unique talents and abilities and use them effectively. Covey emphasizes that leadership is about relationships and inspiring greatness in others.\n"
     ]
    }
   ],
   "source": [
    "\n",
    "sys.path.append(os.path.abspath(os.path.dirname(\"AI\")))  # Add project root to path\n",
    "\n",
    "from chatGPT_utils.ChatGPTClient import getResponseFromChatgpt\n",
    "\n",
    "prompt = \"Hello, summarize 8th habit of highly effective book in one paragraph.\"\n",
    "llm_response = getResponseFromChatgpt(prompt)\n",
    "print(llm_response)"
   ],
   "metadata": {
    "collapsed": false,
    "ExecuteTime": {
     "end_time": "2025-02-09T05:11:09.716199Z",
     "start_time": "2025-02-09T05:11:04.037913Z"
    }
   },
   "id": "c5d49b9777ecc4a8",
   "execution_count": 4
  },
  {
   "cell_type": "code",
   "outputs": [],
   "source": [],
   "metadata": {
    "collapsed": false
   },
   "id": "e5bde057153d018a"
  }
 ],
 "metadata": {
  "kernelspec": {
   "display_name": "Python 3",
   "language": "python",
   "name": "python3"
  },
  "language_info": {
   "codemirror_mode": {
    "name": "ipython",
    "version": 2
   },
   "file_extension": ".py",
   "mimetype": "text/x-python",
   "name": "python",
   "nbconvert_exporter": "python",
   "pygments_lexer": "ipython2",
   "version": "2.7.6"
  }
 },
 "nbformat": 4,
 "nbformat_minor": 5
}
