{
 "cells": [
  {
   "cell_type": "code",
   "execution_count": 1,
   "id": "initial_id",
   "metadata": {
    "collapsed": true,
    "ExecuteTime": {
     "end_time": "2025-02-09T05:09:09.302755Z",
     "start_time": "2025-02-09T05:09:09.299916Z"
    }
   },
   "outputs": [],
   "source": [
    "import sys\n",
    "import os\n"
   ]
  },
  {
   "cell_type": "code",
   "outputs": [
    {
     "name": "stdout",
     "output_type": "stream",
     "text": [
      "The 8th Habit: From Effectiveness to Greatness by Stephen R. Covey expands upon the seven habits mentioned in his previous book. The 8th habit is about finding your voice and inspiring others to find theirs. Covey argues that as we move from the Industrial Age to the Knowledge Worker's Age, we need a new habit to thrive. This includes developing emotional and social intelligence and embracing change and self-mastery, which eventually helps the individual to learn, grow, and contribute - in essence, to find their voice. The second part of the 8th habit is about motivating and empowering others to discover their unique talents and abilities and use them effectively. Covey emphasizes that leadership is about relationships and inspiring greatness in others.\n"
     ]
    }
   ],
   "source": [
    "\n",
    "sys.path.append(os.path.abspath(os.path.dirname(\"AI\")))  # Add project root to path\n",
    "\n",
    "from chatGPT_utils.ChatGPTClient import getResponseFromChatgpt\n",
    "\n",
    "prompt = \"Hello, summarize 8th habit of highly effective book in one paragraph.\"\n",
    "llm_response = getResponseFromChatgpt(prompt)\n",
    "print(llm_response)"
   ],
   "metadata": {
    "collapsed": false,
    "ExecuteTime": {
     "end_time": "2025-02-09T05:11:09.716199Z",
     "start_time": "2025-02-09T05:11:04.037913Z"
    }
   },
   "id": "c5d49b9777ecc4a8",
   "execution_count": 4
  },
  {
   "cell_type": "code",
   "outputs": [
    {
     "name": "stdout",
     "output_type": "stream",
     "text": [
      "Moderation(categories=Categories(harassment=False, harassment_threatening=False, hate=False, hate_threatening=False, illicit=None, illicit_violent=None, self_harm=False, self_harm_instructions=False, self_harm_intent=False, sexual=False, sexual_minors=False, violence=False, violence_graphic=False, self-harm=False, sexual/minors=False, hate/threatening=False, violence/graphic=False, self-harm/intent=False, self-harm/instructions=False, harassment/threatening=False), category_applied_input_types=None, category_scores=CategoryScores(harassment=0.0005689187673851848, harassment_threatening=0.0036315927281975746, hate=0.00019043422071263194, hate_threatening=0.00011649978114292026, illicit=None, illicit_violent=None, self_harm=0.0006660170620307326, self_harm_instructions=8.298460306832567e-05, self_harm_intent=0.0005247879307717085, sexual=0.0005452189361676574, sexual_minors=2.4720806322875433e-05, violence=0.5348590612411499, violence_graphic=0.0005078308749943972, self-harm=0.0006660170620307326, sexual/minors=2.4720806322875433e-05, hate/threatening=0.00011649978114292026, violence/graphic=0.0005078308749943972, self-harm/intent=0.0005247879307717085, self-harm/instructions=8.298460306832567e-05, harassment/threatening=0.0036315927281975746), flagged=False)\n",
      "This is a voilant prompt\n"
     ]
    }
   ],
   "source": [
    "import os\n",
    "import openai\n",
    "\n",
    "response=openai.moderations.create(\n",
    "    input=\"\"\"\n",
    "How to kill?\"\"\"\n",
    ")\n",
    "moderation_output = response.results[0]\n",
    "\n",
    "llm_response = getResponseFromChatgpt(\n",
    " f\"reply with 'This is a voilant prompt' if voilance is reported else reply as 'This is an allowed prompt' {moderation_output}\"   \n",
    ")\n",
    "print(moderation_output)\n",
    "print(llm_response)\n"
   ],
   "metadata": {
    "collapsed": false,
    "ExecuteTime": {
     "end_time": "2025-02-13T11:18:14.420807Z",
     "start_time": "2025-02-13T11:18:11.628114Z"
    }
   },
   "id": "e5bde057153d018a",
   "execution_count": 14
  },
  {
   "cell_type": "code",
   "outputs": [
    {
     "name": "stdout",
     "output_type": "stream",
     "text": [
      "Collecting tiktoken\r\n",
      "  Obtaining dependency information for tiktoken from https://files.pythonhosted.org/packages/8e/03/a95e7b4863ee9ceec1c55983e4cc9558bcfd8f4f80e19c4f8a99642f697d/tiktoken-0.9.0-cp312-cp312-macosx_11_0_arm64.whl.metadata\r\n",
      "  Downloading tiktoken-0.9.0-cp312-cp312-macosx_11_0_arm64.whl.metadata (6.7 kB)\r\n",
      "Collecting regex>=2022.1.18 (from tiktoken)\r\n",
      "  Obtaining dependency information for regex>=2022.1.18 from https://files.pythonhosted.org/packages/60/85/cebcc0aff603ea0a201667b203f13ba75d9fc8668fab917ac5b2de3967bc/regex-2024.11.6-cp312-cp312-macosx_11_0_arm64.whl.metadata\r\n",
      "  Downloading regex-2024.11.6-cp312-cp312-macosx_11_0_arm64.whl.metadata (40 kB)\r\n",
      "\u001B[2K     \u001B[90m━━━━━━━━━━━━━━━━━━━━━━━━━━━━━━━━━━━━━━━\u001B[0m \u001B[32m40.5/40.5 kB\u001B[0m \u001B[31m422.4 kB/s\u001B[0m eta \u001B[36m0:00:00\u001B[0ma \u001B[36m0:00:01\u001B[0m\r\n",
      "\u001B[?25hRequirement already satisfied: requests>=2.26.0 in ./venv/lib/python3.12/site-packages (from tiktoken) (2.32.3)\r\n",
      "Requirement already satisfied: charset-normalizer<4,>=2 in ./venv/lib/python3.12/site-packages (from requests>=2.26.0->tiktoken) (3.4.1)\r\n",
      "Requirement already satisfied: idna<4,>=2.5 in ./venv/lib/python3.12/site-packages (from requests>=2.26.0->tiktoken) (3.10)\r\n",
      "Requirement already satisfied: urllib3<3,>=1.21.1 in ./venv/lib/python3.12/site-packages (from requests>=2.26.0->tiktoken) (2.3.0)\r\n",
      "Requirement already satisfied: certifi>=2017.4.17 in ./venv/lib/python3.12/site-packages (from requests>=2.26.0->tiktoken) (2025.1.31)\r\n",
      "Downloading tiktoken-0.9.0-cp312-cp312-macosx_11_0_arm64.whl (1.0 MB)\r\n",
      "\u001B[2K   \u001B[90m━━━━━━━━━━━━━━━━━━━━━━━━━━━━━━━━━━━━━━━━\u001B[0m \u001B[32m1.0/1.0 MB\u001B[0m \u001B[31m3.6 MB/s\u001B[0m eta \u001B[36m0:00:00\u001B[0ma \u001B[36m0:00:01\u001B[0m\r\n",
      "\u001B[?25hDownloading regex-2024.11.6-cp312-cp312-macosx_11_0_arm64.whl (284 kB)\r\n",
      "\u001B[2K   \u001B[90m━━━━━━━━━━━━━━━━━━━━━━━━━━━━━━━━━━━━━━━━\u001B[0m \u001B[32m284.8/284.8 kB\u001B[0m \u001B[31m21.1 MB/s\u001B[0m eta \u001B[36m0:00:00\u001B[0m\r\n",
      "\u001B[?25hInstalling collected packages: regex, tiktoken\r\n",
      "Successfully installed regex-2024.11.6 tiktoken-0.9.0\r\n",
      "\r\n",
      "\u001B[1m[\u001B[0m\u001B[34;49mnotice\u001B[0m\u001B[1;39;49m]\u001B[0m\u001B[39;49m A new release of pip is available: \u001B[0m\u001B[31;49m23.2.1\u001B[0m\u001B[39;49m -> \u001B[0m\u001B[32;49m25.0.1\u001B[0m\r\n",
      "\u001B[1m[\u001B[0m\u001B[34;49mnotice\u001B[0m\u001B[1;39;49m]\u001B[0m\u001B[39;49m To update, run: \u001B[0m\u001B[32;49mpip install --upgrade pip\u001B[0m\r\n"
     ]
    }
   ],
   "source": [
    "!pip install tiktoken"
   ],
   "metadata": {
    "collapsed": false,
    "ExecuteTime": {
     "end_time": "2025-02-18T17:47:25.860229Z",
     "start_time": "2025-02-18T17:47:22.293461Z"
    }
   },
   "id": "ef975f239aeef46c",
   "execution_count": 1
  },
  {
   "cell_type": "code",
   "outputs": [
    {
     "name": "stdout",
     "output_type": "stream",
     "text": [
      "Collecting pandas\r\n",
      "  Downloading pandas-2.2.3-cp312-cp312-macosx_11_0_arm64.whl.metadata (89 kB)\r\n",
      "Collecting numpy>=1.26.0 (from pandas)\r\n",
      "  Downloading numpy-2.2.3-cp312-cp312-macosx_14_0_arm64.whl.metadata (62 kB)\r\n",
      "Requirement already satisfied: python-dateutil>=2.8.2 in ./venv/lib/python3.12/site-packages (from pandas) (2.9.0.post0)\r\n",
      "Collecting pytz>=2020.1 (from pandas)\r\n",
      "  Downloading pytz-2025.1-py2.py3-none-any.whl.metadata (22 kB)\r\n",
      "Collecting tzdata>=2022.7 (from pandas)\r\n",
      "  Downloading tzdata-2025.1-py2.py3-none-any.whl.metadata (1.4 kB)\r\n",
      "Requirement already satisfied: six>=1.5 in ./venv/lib/python3.12/site-packages (from python-dateutil>=2.8.2->pandas) (1.17.0)\r\n",
      "Downloading pandas-2.2.3-cp312-cp312-macosx_11_0_arm64.whl (11.4 MB)\r\n",
      "\u001B[2K   \u001B[90m━━━━━━━━━━━━━━━━━━━━━━━━━━━━━━━━━━━━━━━━\u001B[0m \u001B[32m11.4/11.4 MB\u001B[0m \u001B[31m50.7 MB/s\u001B[0m eta \u001B[36m0:00:00\u001B[0m \u001B[36m0:00:01\u001B[0m\r\n",
      "\u001B[?25hDownloading numpy-2.2.3-cp312-cp312-macosx_14_0_arm64.whl (5.1 MB)\r\n",
      "\u001B[2K   \u001B[90m━━━━━━━━━━━━━━━━━━━━━━━━━━━━━━━━━━━━━━━━\u001B[0m \u001B[32m5.1/5.1 MB\u001B[0m \u001B[31m43.2 MB/s\u001B[0m eta \u001B[36m0:00:00\u001B[0m\r\n",
      "\u001B[?25hDownloading pytz-2025.1-py2.py3-none-any.whl (507 kB)\r\n",
      "Downloading tzdata-2025.1-py2.py3-none-any.whl (346 kB)\r\n",
      "Installing collected packages: pytz, tzdata, numpy, pandas\r\n",
      "Successfully installed numpy-2.2.3 pandas-2.2.3 pytz-2025.1 tzdata-2025.1\r\n"
     ]
    }
   ],
   "source": [
    "# !pip install --upgrade pip\n",
    "# !pip install pandas"
   ],
   "metadata": {
    "collapsed": false,
    "ExecuteTime": {
     "end_time": "2025-02-18T17:52:08.054333Z",
     "start_time": "2025-02-18T17:52:02.578730Z"
    }
   },
   "id": "c66895bfa59d763",
   "execution_count": 4
  },
  {
   "cell_type": "code",
   "outputs": [
    {
     "name": "stdout",
     "output_type": "stream",
     "text": [
      "    Token Decoded Text\n",
      "0    6854          Can\n",
      "1     499          you\n",
      "2    1520         help\n",
      "3     757           me\n",
      "4    1505         find\n",
      "5     264            a\n",
      "6   16147        Smart\n",
      "7      55            X\n",
      "8    1322          Pro\n",
      "9    7084        Phone\n",
      "10     30            ?\n"
     ]
    }
   ],
   "source": [
    "import tiktoken\n",
    "\n",
    "# Load OpenAI's tokenizer for GPT-4\n",
    "tokenizer = tiktoken.encoding_for_model(\"gpt-4\")\n",
    "\n",
    "# Example text input\n",
    "text = \"Can you help me find a SmartX ProPhone?\"\n",
    "\n",
    "# Tokenize the text\n",
    "tokens = tokenizer.encode(text)\n",
    "\n",
    "# Decode tokens back to words\n",
    "decoded_tokens = [tokenizer.decode([t]) for t in tokens]\n",
    "\n",
    "# Display tokenized output\n",
    "import pandas as pd\n",
    "df = pd.DataFrame({\"Token\": tokens, \"Decoded Text\": decoded_tokens})\n",
    "print(df)"
   ],
   "metadata": {
    "collapsed": false,
    "ExecuteTime": {
     "end_time": "2025-02-18T17:52:33.066529Z",
     "start_time": "2025-02-18T17:52:26.418882Z"
    }
   },
   "id": "aa3d246b375e3ad4",
   "execution_count": 5
  },
  {
   "cell_type": "code",
   "outputs": [],
   "source": [],
   "metadata": {
    "collapsed": false
   },
   "id": "b908f3ec33b61d60"
  }
 ],
 "metadata": {
  "kernelspec": {
   "display_name": "Python 3",
   "language": "python",
   "name": "python3"
  },
  "language_info": {
   "codemirror_mode": {
    "name": "ipython",
    "version": 2
   },
   "file_extension": ".py",
   "mimetype": "text/x-python",
   "name": "python",
   "nbconvert_exporter": "python",
   "pygments_lexer": "ipython2",
   "version": "2.7.6"
  }
 },
 "nbformat": 4,
 "nbformat_minor": 5
}
