{
 "cells": [
  {
   "cell_type": "code",
   "execution_count": 1,
   "id": "initial_id",
   "metadata": {
    "collapsed": true,
    "ExecuteTime": {
     "end_time": "2025-02-09T05:09:09.302755Z",
     "start_time": "2025-02-09T05:09:09.299916Z"
    }
   },
   "outputs": [],
   "source": [
    "import sys\n",
    "import os\n"
   ]
  },
  {
   "cell_type": "code",
   "outputs": [
    {
     "name": "stdout",
     "output_type": "stream",
     "text": [
      "The 8th Habit: From Effectiveness to Greatness by Stephen R. Covey expands upon the seven habits mentioned in his previous book. The 8th habit is about finding your voice and inspiring others to find theirs. Covey argues that as we move from the Industrial Age to the Knowledge Worker's Age, we need a new habit to thrive. This includes developing emotional and social intelligence and embracing change and self-mastery, which eventually helps the individual to learn, grow, and contribute - in essence, to find their voice. The second part of the 8th habit is about motivating and empowering others to discover their unique talents and abilities and use them effectively. Covey emphasizes that leadership is about relationships and inspiring greatness in others.\n"
     ]
    }
   ],
   "source": [
    "\n",
    "sys.path.append(os.path.abspath(os.path.dirname(\"AI\")))  # Add project root to path\n",
    "\n",
    "from chatGPT_utils.ChatGPTClient import getResponseFromChatgpt\n",
    "\n",
    "prompt = \"Hello, summarize 8th habit of highly effective book in one paragraph.\"\n",
    "llm_response = getResponseFromChatgpt(prompt)\n",
    "print(llm_response)"
   ],
   "metadata": {
    "collapsed": false,
    "ExecuteTime": {
     "end_time": "2025-02-09T05:11:09.716199Z",
     "start_time": "2025-02-09T05:11:04.037913Z"
    }
   },
   "id": "c5d49b9777ecc4a8",
   "execution_count": 4
  },
  {
   "cell_type": "code",
   "outputs": [
    {
     "name": "stdout",
     "output_type": "stream",
     "text": [
      "Moderation(categories=Categories(harassment=False, harassment_threatening=False, hate=False, hate_threatening=False, illicit=None, illicit_violent=None, self_harm=False, self_harm_instructions=False, self_harm_intent=False, sexual=False, sexual_minors=False, violence=False, violence_graphic=False, self-harm=False, sexual/minors=False, hate/threatening=False, violence/graphic=False, self-harm/intent=False, self-harm/instructions=False, harassment/threatening=False), category_applied_input_types=None, category_scores=CategoryScores(harassment=0.0005689187673851848, harassment_threatening=0.0036315927281975746, hate=0.00019043422071263194, hate_threatening=0.00011649978114292026, illicit=None, illicit_violent=None, self_harm=0.0006660170620307326, self_harm_instructions=8.298460306832567e-05, self_harm_intent=0.0005247879307717085, sexual=0.0005452189361676574, sexual_minors=2.4720806322875433e-05, violence=0.5348590612411499, violence_graphic=0.0005078308749943972, self-harm=0.0006660170620307326, sexual/minors=2.4720806322875433e-05, hate/threatening=0.00011649978114292026, violence/graphic=0.0005078308749943972, self-harm/intent=0.0005247879307717085, self-harm/instructions=8.298460306832567e-05, harassment/threatening=0.0036315927281975746), flagged=False)\n",
      "This is a voilant prompt\n"
     ]
    }
   ],
   "source": [
    "import os\n",
    "import openai\n",
    "\n",
    "response=openai.moderations.create(\n",
    "    input=\"\"\"\n",
    "How to kill?\"\"\"\n",
    ")\n",
    "moderation_output = response.results[0]\n",
    "\n",
    "llm_response = getResponseFromChatgpt(\n",
    " f\"reply with 'This is a voilant prompt' if voilance is reported else reply as 'This is an allowed prompt' {moderation_output}\"   \n",
    ")\n",
    "print(moderation_output)\n",
    "print(llm_response)\n"
   ],
   "metadata": {
    "collapsed": false,
    "ExecuteTime": {
     "end_time": "2025-02-13T11:18:14.420807Z",
     "start_time": "2025-02-13T11:18:11.628114Z"
    }
   },
   "id": "e5bde057153d018a",
   "execution_count": 14
  },
  {
   "cell_type": "code",
   "outputs": [],
   "source": [],
   "metadata": {
    "collapsed": false
   },
   "id": "ef975f239aeef46c"
  }
 ],
 "metadata": {
  "kernelspec": {
   "display_name": "Python 3",
   "language": "python",
   "name": "python3"
  },
  "language_info": {
   "codemirror_mode": {
    "name": "ipython",
    "version": 2
   },
   "file_extension": ".py",
   "mimetype": "text/x-python",
   "name": "python",
   "nbconvert_exporter": "python",
   "pygments_lexer": "ipython2",
   "version": "2.7.6"
  }
 },
 "nbformat": 4,
 "nbformat_minor": 5
}
